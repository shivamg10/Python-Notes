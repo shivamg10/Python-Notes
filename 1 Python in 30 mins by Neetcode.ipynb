{
 "cells": [
  {
   "cell_type": "markdown",
   "id": "f67003f7",
   "metadata": {},
   "source": [
    "## Go through the below video link to see all the syntax that is used in python for coding interviews :"
   ]
  },
  {
   "cell_type": "code",
   "execution_count": 1,
   "id": "535dd0a0",
   "metadata": {},
   "outputs": [
    {
     "data": {
      "text/plain": [
       "'https://www.youtube.com/watch?v=0K_eZGS5NsU&ab_channel=NeetCode'"
      ]
     },
     "execution_count": 1,
     "metadata": {},
     "output_type": "execute_result"
    }
   ],
   "source": [
    "url=(\"https://www.youtube.com/watch?v=0K_eZGS5NsU&ab_channel=NeetCode\")\n",
    "url"
   ]
  },
  {
   "cell_type": "code",
   "execution_count": null,
   "id": "6a7ea6a0",
   "metadata": {},
   "outputs": [],
   "source": []
  }
 ],
 "metadata": {
  "kernelspec": {
   "display_name": "Python 3",
   "language": "python",
   "name": "python3"
  },
  "language_info": {
   "codemirror_mode": {
    "name": "ipython",
    "version": 3
   },
   "file_extension": ".py",
   "mimetype": "text/x-python",
   "name": "python",
   "nbconvert_exporter": "python",
   "pygments_lexer": "ipython3",
   "version": "3.7.7"
  }
 },
 "nbformat": 4,
 "nbformat_minor": 5
}
