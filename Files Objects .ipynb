{
 "cells": [
  {
   "cell_type": "code",
   "execution_count": 38,
   "id": "35860e56",
   "metadata": {},
   "outputs": [
    {
     "name": "stdout",
     "output_type": "stream",
     "text": [
      "File Name is:  test.txt\n",
      "File is opened in r mode\n",
      "Hi there!\n",
      "What is going Everybody. Shivam this side.\n",
      "I am testing how to deal files using python\n",
      "This is Line 4\n",
      "This is Line 5\n",
      "This is Line 6\n",
      "This is the end of the Paragraph."
     ]
    }
   ],
   "source": [
    "# You can open files like this, but try to avoid this \n",
    "f=open('test.txt','r')\n",
    "print(\"File Name is: \",f.name)\n",
    "print(\"File is opened in\",f.mode,\"mode\")\n",
    "for line in f:\n",
    "    print(line,end=\"\")\n",
    "f.close()"
   ]
  },
  {
   "cell_type": "markdown",
   "id": "2749b172",
   "metadata": {},
   "source": [
    "## Using Context Manager 'with'"
   ]
  },
  {
   "cell_type": "code",
   "execution_count": 39,
   "id": "9767eee4",
   "metadata": {},
   "outputs": [
    {
     "name": "stdout",
     "output_type": "stream",
     "text": [
      "Hi there!\n",
      "What is going Everybody. Shivam this side.\n",
      "I am testing how to deal files using python\n",
      "This is Line 4\n",
      "This is Line 5\n",
      "This is Line 6\n",
      "This is the end of the Paragraph."
     ]
    }
   ],
   "source": [
    "# Use Context Managers for accessing the Files \n",
    "with open('test.txt','r') as f:\n",
    "    for line in f:\n",
    "        print(line,end=\"\")\n",
    "# By using 'with' we don't have to care about closing the file\n",
    "# When we go out of the scope of 'with', then it automatically closes the files\n",
    "# Apart from this it also closes the files in case of exceptions\n",
    "# But note that you can still use f variable, it remains even after exiting the with block and only the file is closed.\n",
    "# However if we try to read from f, then it won't print anythind since file is closed."
   ]
  },
  {
   "cell_type": "code",
   "execution_count": 40,
   "id": "206aa24b",
   "metadata": {},
   "outputs": [
    {
     "name": "stdout",
     "output_type": "stream",
     "text": [
      "Name of the file : test.txt\n",
      "Is the file Closed? : True\n",
      "*********** Error Raised *************\n",
      "I/O operation on closed file.\n"
     ]
    }
   ],
   "source": [
    "print(\"Name of the file :\",f.name)\n",
    "print(\"Is the file Closed? :\",f.closed)\n",
    "try:\n",
    "    print(f.read())\n",
    "except Exception as e:\n",
    "    print(\"*********** Error Raised *************\")\n",
    "    print(e)"
   ]
  },
  {
   "cell_type": "code",
   "execution_count": 29,
   "id": "9f9c4c2e",
   "metadata": {},
   "outputs": [
    {
     "name": "stdout",
     "output_type": "stream",
     "text": [
      "Hi there!\n",
      "What is going Everybody. Shivam this side.\n",
      "I am testing how to deal files using python\n",
      "This is Line 4\n",
      "This is Line 5\n",
      "This is Line 6\n",
      "This is the end of the Paragraph.\n"
     ]
    }
   ],
   "source": [
    "# We can also read the files using read() and readlInes() and readLine() functions\n",
    "with open('test.txt','r') as f:\n",
    "    file_contents1=f.read()\n",
    "\n",
    "print(file_contents1)\n",
    "\n",
    "# Here read() assigns all the contents of the file to a variable, hence if the file very large,\n",
    "# then it can create a memory issue, so readlines() reduces this memory issue to some extent.\n",
    "# while read() only reads the file line by line so there is not issue of memory."
   ]
  },
  {
   "cell_type": "code",
   "execution_count": 34,
   "id": "a9c6dfe6",
   "metadata": {},
   "outputs": [
    {
     "name": "stdout",
     "output_type": "stream",
     "text": [
      "['Hi there!\\n', 'What is going Everybody. Shivam this side.\\n', 'I am testing how to deal files using python\\n', 'This is Line 4\\n', 'This is Line 5\\n', 'This is Line 6\\n', 'This is the end of the Paragraph.']\n"
     ]
    }
   ],
   "source": [
    "with open('test.txt','r') as f:\n",
    "    file_contents=f.readlines()\n",
    "\n",
    "print(file_contents)"
   ]
  },
  {
   "cell_type": "code",
   "execution_count": 37,
   "id": "949d2cec",
   "metadata": {},
   "outputs": [
    {
     "name": "stdout",
     "output_type": "stream",
     "text": [
      "Hi there!\n",
      "\n"
     ]
    }
   ],
   "source": [
    "# ReadLine() reads only one line of the file.\n",
    "with open('test.txt','r') as f:\n",
    "    line_content=f.readline()\n",
    "\n",
    "print(line_content)"
   ]
  },
  {
   "cell_type": "code",
   "execution_count": 41,
   "id": "e99c63e7",
   "metadata": {},
   "outputs": [
    {
     "name": "stdout",
     "output_type": "stream",
     "text": [
      "Hi there!\n",
      " | What is go | ing Everyb | ody. Shiva | m this sid | e.\n",
      "I am te | sting how  | to deal fi | les using  | python\n",
      "Thi | s is Line  | 4\n",
      "This is  | Line 5\n",
      "Thi | s is Line  | 6\n",
      "This is  | the end of |  the Parag | raph. | "
     ]
    }
   ],
   "source": [
    "# When you have a large file to read then looping through the file and reading the contents in form of chunks is a good idea.\n",
    "with open('test.txt','r') as f:\n",
    "    size_to_read=10\n",
    "    file_content=f.read(size_to_read)\n",
    "    while len(file_content)>0:\n",
    "        print(file_content,end=\" | \")\n",
    "        file_content=f.read(size_to_read)\n",
    "# Below you will see how file will be read in form of chunks( | seperates every chunk)"
   ]
  },
  {
   "cell_type": "code",
   "execution_count": 44,
   "id": "437f35c6",
   "metadata": {},
   "outputs": [
    {
     "name": "stdout",
     "output_type": "stream",
     "text": [
      "Before Reading cursor at: 0\n",
      "Hi there!\n",
      "\n",
      "After Reading cursor at: 10\n",
      "What is go\n",
      "After Reading 1 more line, cursor at: 20\n"
     ]
    }
   ],
   "source": [
    "# Use tell() to find out the position of cursor, from where the file will start reading\n",
    "with open('test.txt','r') as f:\n",
    "    print(\"Before Reading cursor at:\",f.tell())\n",
    "    print(f.read(10))\n",
    "    print(\"After Reading cursor at:\",f.tell())\n",
    "    print(f.read(10))\n",
    "    print(\"After Reading 1 more line, cursor at:\",f.tell())"
   ]
  },
  {
   "cell_type": "code",
   "execution_count": 45,
   "id": "2a54d378",
   "metadata": {},
   "outputs": [
    {
     "name": "stdout",
     "output_type": "stream",
     "text": [
      "Hi there!\n",
      "\n",
      "Hi there!\n",
      "\n"
     ]
    }
   ],
   "source": [
    "# Use seek() to move the cursor at the specified position\n",
    "\n",
    "with open('test.txt','r') as f:\n",
    "    print(f.read(10))\n",
    "    # making the cursor to move to the beginning of the file again\n",
    "    f.seek(0)\n",
    "    print(f.read(10))"
   ]
  },
  {
   "cell_type": "markdown",
   "id": "ee5a4485",
   "metadata": {},
   "source": [
    "## Writing to Files"
   ]
  },
  {
   "cell_type": "code",
   "execution_count": 50,
   "id": "12622082",
   "metadata": {},
   "outputs": [
    {
     "name": "stdout",
     "output_type": "stream",
     "text": [
      "Resting\n"
     ]
    }
   ],
   "source": [
    "with open('Test2.txt','w') as f:\n",
    "    f.write('Testing')\n",
    "    f.seek(0)\n",
    "    f.write('R')\n",
    "\n",
    "with open('Test2.txt','r') as f:\n",
    "    print(f.read())"
   ]
  },
  {
   "cell_type": "code",
   "execution_count": 51,
   "id": "9e562308",
   "metadata": {},
   "outputs": [
    {
     "name": "stdout",
     "output_type": "stream",
     "text": [
      "Hi there!\n",
      "What is going Everybody. Shivam this side.\n",
      "I am testing how to deal files using python\n",
      "This is Line 4\n",
      "This is Line 5\n",
      "This is Line 6\n",
      "This is the end of the Paragraph.\n"
     ]
    }
   ],
   "source": [
    "with open('test.txt','r') as rf:\n",
    "    with open('Test2.txt','w') as wf:\n",
    "        for line in rf:\n",
    "            wf.write(line)\n",
    "\n",
    "with open('Test2.txt','r') as f:\n",
    "    print(f.read())"
   ]
  },
  {
   "cell_type": "code",
   "execution_count": 52,
   "id": "6bd731ee",
   "metadata": {},
   "outputs": [],
   "source": [
    "## For reading and writing to a file in binary format like a Picture file(.png,.jpg)\n",
    "# We use mode 'rb' for reading and 'wb' for writing"
   ]
  },
  {
   "cell_type": "code",
   "execution_count": null,
   "id": "41d45df7",
   "metadata": {},
   "outputs": [],
   "source": []
  }
 ],
 "metadata": {
  "kernelspec": {
   "display_name": "Python 3",
   "language": "python",
   "name": "python3"
  },
  "language_info": {
   "codemirror_mode": {
    "name": "ipython",
    "version": 3
   },
   "file_extension": ".py",
   "mimetype": "text/x-python",
   "name": "python",
   "nbconvert_exporter": "python",
   "pygments_lexer": "ipython3",
   "version": "3.7.7"
  }
 },
 "nbformat": 4,
 "nbformat_minor": 5
}
