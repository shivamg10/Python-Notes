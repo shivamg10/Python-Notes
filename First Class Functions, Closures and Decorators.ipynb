{
 "cells": [
  {
   "cell_type": "markdown",
   "id": "ae3e3b4a",
   "metadata": {},
   "source": [
    "## First class Functions"
   ]
  },
  {
   "cell_type": "code",
   "execution_count": 20,
   "id": "d3047e5f",
   "metadata": {},
   "outputs": [
    {
     "name": "stdout",
     "output_type": "stream",
     "text": [
      "https://www.geeksforgeeks.org/first-class-functions-python/\n"
     ]
    }
   ],
   "source": [
    "## Go through this GFG Article to understand the theory behind FIrst class functions\n",
    "url=\"https://www.geeksforgeeks.org/first-class-functions-python/\"\n",
    "print(url)"
   ]
  },
  {
   "cell_type": "code",
   "execution_count": 6,
   "id": "c1cfef7e",
   "metadata": {},
   "outputs": [],
   "source": [
    "def square(valueList):\n",
    "    result=[]\n",
    "    for value in valueList:\n",
    "        result.append(value*value)\n",
    "    return result\n",
    "\n",
    "def cube(valueList):\n",
    "    result=[]\n",
    "    for value in valueList:\n",
    "        result.append(value*value*value)\n",
    "    return result"
   ]
  },
  {
   "cell_type": "markdown",
   "id": "71d3967a",
   "metadata": {},
   "source": [
    "## Assigning functions to variables"
   ]
  },
  {
   "cell_type": "code",
   "execution_count": 5,
   "id": "a7795e5b",
   "metadata": {},
   "outputs": [
    {
     "name": "stdout",
     "output_type": "stream",
     "text": [
      "[1, 4, 9, 16, 25]\n",
      "[1, 8, 27, 64, 125]\n"
     ]
    }
   ],
   "source": [
    "sq=square\n",
    "cb=cube\n",
    "\n",
    "list=[1,2,3,4,5]\n",
    "\n",
    "print(sq(list))\n",
    "print(cb(list))"
   ]
  },
  {
   "cell_type": "markdown",
   "id": "41095af9",
   "metadata": {},
   "source": [
    "## Passing functions in the Arguments"
   ]
  },
  {
   "cell_type": "code",
   "execution_count": 11,
   "id": "4833ac5d",
   "metadata": {},
   "outputs": [
    {
     "name": "stdout",
     "output_type": "stream",
     "text": [
      "[1, 4, 9, 16, 25]\n",
      "[1, 8, 27, 64, 125]\n"
     ]
    }
   ],
   "source": [
    "def operation(func,valueList):\n",
    "    return func(valueList)\n",
    "\n",
    "print(operation(square,list))\n",
    "print(operation(cube,list))"
   ]
  },
  {
   "cell_type": "markdown",
   "id": "19b84e5d",
   "metadata": {},
   "source": [
    "## Returning a function from another function"
   ]
  },
  {
   "cell_type": "code",
   "execution_count": 17,
   "id": "1a5618f9",
   "metadata": {},
   "outputs": [],
   "source": [
    "def add_15(valueList):\n",
    "    def add(func):\n",
    "        result=func(valueList)\n",
    "        result=[x+15 for x in result]\n",
    "        return result\n",
    "    return add"
   ]
  },
  {
   "cell_type": "code",
   "execution_count": 18,
   "id": "48573d20",
   "metadata": {},
   "outputs": [
    {
     "name": "stdout",
     "output_type": "stream",
     "text": [
      "[16, 19, 24, 31, 40]\n"
     ]
    }
   ],
   "source": [
    "valueList=[1,2,3,4,5]\n",
    "values_plus_15=add_15(list)\n",
    "print(values_plus_15(square))"
   ]
  },
  {
   "cell_type": "code",
   "execution_count": null,
   "id": "dbcdd530",
   "metadata": {},
   "outputs": [],
   "source": []
  },
  {
   "cell_type": "code",
   "execution_count": null,
   "id": "d02cef82",
   "metadata": {},
   "outputs": [],
   "source": []
  },
  {
   "cell_type": "markdown",
   "id": "d6d930b6",
   "metadata": {},
   "source": [
    "## Closures"
   ]
  },
  {
   "cell_type": "code",
   "execution_count": 19,
   "id": "fe3a2de0",
   "metadata": {},
   "outputs": [
    {
     "name": "stdout",
     "output_type": "stream",
     "text": [
      "https://www.geeksforgeeks.org/python-closures/\n"
     ]
    }
   ],
   "source": [
    "## Refer the following GFG Article to understand the theory\n",
    "url=\"https://www.geeksforgeeks.org/python-closures/\"\n",
    "print(url)"
   ]
  },
  {
   "cell_type": "code",
   "execution_count": 21,
   "id": "5c34cc38",
   "metadata": {},
   "outputs": [],
   "source": [
    "## Basically Closures lets you use a nested function(inner function) outside the enclosing function as well.\n",
    "## This is done by returning the nested function from the outer function(enclosing function)"
   ]
  },
  {
   "cell_type": "code",
   "execution_count": null,
   "id": "8a892f53",
   "metadata": {},
   "outputs": [],
   "source": []
  },
  {
   "cell_type": "code",
   "execution_count": null,
   "id": "30f3c1a5",
   "metadata": {},
   "outputs": [],
   "source": []
  },
  {
   "cell_type": "markdown",
   "id": "e51071db",
   "metadata": {},
   "source": [
    "## Decorators"
   ]
  },
  {
   "cell_type": "code",
   "execution_count": 49,
   "id": "1ee11f13",
   "metadata": {},
   "outputs": [
    {
     "name": "stdout",
     "output_type": "stream",
     "text": [
      "https://www.geeksforgeeks.org/decorators-in-python/\n"
     ]
    }
   ],
   "source": [
    "## Go through this article from GFG\n",
    "url=\"https://www.geeksforgeeks.org/decorators-in-python/\"\n",
    "print(url)"
   ]
  },
  {
   "cell_type": "code",
   "execution_count": 23,
   "id": "c1f7b188",
   "metadata": {},
   "outputs": [],
   "source": [
    "## Decorators lets you extend the functionality of a function without modyfying the original function.\n",
    "## It basically does this by passing the original function in the parameters of the the wrapper function, then\n",
    "## this wrapper function do some extra work and calls the original function."
   ]
  },
  {
   "cell_type": "code",
   "execution_count": 68,
   "id": "f64bdb57",
   "metadata": {},
   "outputs": [],
   "source": [
    "def decorator_function(func):\n",
    "    def wrapper_function(*args,**kwargs):\n",
    "        print(\"Running {} function\".format(func.__name__))\n",
    "        func(*args,**kwargs)\n",
    "    return wrapper_function"
   ]
  },
  {
   "cell_type": "code",
   "execution_count": 69,
   "id": "63f30b19",
   "metadata": {},
   "outputs": [],
   "source": [
    "def display():\n",
    "    print(\"Hey There\")"
   ]
  },
  {
   "cell_type": "code",
   "execution_count": 70,
   "id": "23d2617e",
   "metadata": {},
   "outputs": [
    {
     "name": "stdout",
     "output_type": "stream",
     "text": [
      "Running display function\n",
      "Hey There\n"
     ]
    }
   ],
   "source": [
    "display=decorator_function(display)\n",
    "display()"
   ]
  },
  {
   "cell_type": "code",
   "execution_count": 71,
   "id": "8177ee01",
   "metadata": {},
   "outputs": [],
   "source": [
    "## The concept explained above remains same, just decorators in python are not written like above,\n",
    "## instead they are written like below"
   ]
  },
  {
   "cell_type": "code",
   "execution_count": 72,
   "id": "e10c21af",
   "metadata": {},
   "outputs": [],
   "source": [
    "@decorator_function\n",
    "def hi_there():\n",
    "    print(\"Hi There!\")\n",
    "\n",
    "@decorator_function\n",
    "def hi_there_with_argument(name,age):\n",
    "    print(f\"Hi there! {name}, you're {age} yrs old.\")"
   ]
  },
  {
   "cell_type": "code",
   "execution_count": 73,
   "id": "ccbe6000",
   "metadata": {},
   "outputs": [
    {
     "name": "stdout",
     "output_type": "stream",
     "text": [
      "Running hi_there function\n",
      "Hi There!\n"
     ]
    }
   ],
   "source": [
    "hi_there()"
   ]
  },
  {
   "cell_type": "code",
   "execution_count": 74,
   "id": "5156f405",
   "metadata": {},
   "outputs": [
    {
     "name": "stdout",
     "output_type": "stream",
     "text": [
      "Running hi_there_with_argument function\n",
      "Hi there! Shivam, you're 22 yrs old.\n"
     ]
    }
   ],
   "source": [
    "hi_there_with_argument('Shivam','22')"
   ]
  },
  {
   "cell_type": "code",
   "execution_count": null,
   "id": "6ff84275",
   "metadata": {},
   "outputs": [],
   "source": []
  },
  {
   "cell_type": "code",
   "execution_count": null,
   "id": "0b175b30",
   "metadata": {},
   "outputs": [],
   "source": []
  },
  {
   "cell_type": "code",
   "execution_count": null,
   "id": "d7fc3d26",
   "metadata": {},
   "outputs": [],
   "source": []
  },
  {
   "cell_type": "code",
   "execution_count": null,
   "id": "3c59c5a7",
   "metadata": {},
   "outputs": [],
   "source": []
  },
  {
   "cell_type": "code",
   "execution_count": null,
   "id": "81cab69c",
   "metadata": {},
   "outputs": [],
   "source": []
  }
 ],
 "metadata": {
  "kernelspec": {
   "display_name": "Python 3",
   "language": "python",
   "name": "python3"
  },
  "language_info": {
   "codemirror_mode": {
    "name": "ipython",
    "version": 3
   },
   "file_extension": ".py",
   "mimetype": "text/x-python",
   "name": "python",
   "nbconvert_exporter": "python",
   "pygments_lexer": "ipython3",
   "version": "3.7.7"
  }
 },
 "nbformat": 4,
 "nbformat_minor": 5
}
