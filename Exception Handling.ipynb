{
 "cells": [
  {
   "cell_type": "code",
   "execution_count": 2,
   "id": "ac2ed599",
   "metadata": {},
   "outputs": [
    {
     "name": "stdout",
     "output_type": "stream",
     "text": [
      "Enter 1st number : \n",
      "20\n",
      "Enter 2nd number : \n",
      "0\n"
     ]
    },
    {
     "ename": "ZeroDivisionError",
     "evalue": "division by zero",
     "output_type": "error",
     "traceback": [
      "\u001b[1;31m---------------------------------------------------------------------------\u001b[0m",
      "\u001b[1;31mZeroDivisionError\u001b[0m                         Traceback (most recent call last)",
      "\u001b[1;32m<ipython-input-2-b00c80c80f84>\u001b[0m in \u001b[0;36m<module>\u001b[1;34m\u001b[0m\n\u001b[0;32m      5\u001b[0m \u001b[0mb\u001b[0m\u001b[1;33m=\u001b[0m\u001b[0mint\u001b[0m\u001b[1;33m(\u001b[0m\u001b[0minput\u001b[0m\u001b[1;33m(\u001b[0m\u001b[1;33m)\u001b[0m\u001b[1;33m)\u001b[0m\u001b[1;33m\u001b[0m\u001b[1;33m\u001b[0m\u001b[0m\n\u001b[0;32m      6\u001b[0m \u001b[1;33m\u001b[0m\u001b[0m\n\u001b[1;32m----> 7\u001b[1;33m \u001b[0mdiv\u001b[0m\u001b[1;33m=\u001b[0m\u001b[0ma\u001b[0m\u001b[1;33m/\u001b[0m\u001b[0mb\u001b[0m\u001b[1;33m\u001b[0m\u001b[1;33m\u001b[0m\u001b[0m\n\u001b[0m\u001b[0;32m      8\u001b[0m \u001b[1;33m\u001b[0m\u001b[0m\n\u001b[0;32m      9\u001b[0m \u001b[0mprint\u001b[0m\u001b[1;33m(\u001b[0m\u001b[1;34m\"Division is : \"\u001b[0m\u001b[1;33m,\u001b[0m\u001b[0mdiv\u001b[0m\u001b[1;33m)\u001b[0m\u001b[1;33m\u001b[0m\u001b[1;33m\u001b[0m\u001b[0m\n",
      "\u001b[1;31mZeroDivisionError\u001b[0m: division by zero"
     ]
    }
   ],
   "source": [
    "print(\"Enter 1st number : \")\n",
    "a=int(input())\n",
    "\n",
    "print(\"Enter 2nd number : \")\n",
    "b=int(input())\n",
    "\n",
    "div=a/b\n",
    "\n",
    "print(\"Division is : \",div)"
   ]
  },
  {
   "cell_type": "markdown",
   "id": "c12b7bb4",
   "metadata": {},
   "source": [
    "# Try and Except Block"
   ]
  },
  {
   "cell_type": "code",
   "execution_count": 12,
   "id": "3b5a88c6",
   "metadata": {},
   "outputs": [
    {
     "name": "stdout",
     "output_type": "stream",
     "text": [
      "Enter 1st number : \n",
      "20\n",
      "Enter 2nd number : \n",
      "0\n",
      "Error Occured :  division by zero\n",
      "Division is :  None\n"
     ]
    }
   ],
   "source": [
    "# Generic Exception Handler\n",
    "\n",
    "print(\"Enter 1st number : \")\n",
    "a=int(input())\n",
    "\n",
    "print(\"Enter 2nd number : \")\n",
    "b=int(input())\n",
    "\n",
    "try:\n",
    "    div=a/b\n",
    "except Exception as e:\n",
    "    print(\"Error Occured : \",e)\n",
    "    div=None\n",
    "    \n",
    "print(\"Division is : \",div)"
   ]
  },
  {
   "cell_type": "code",
   "execution_count": 7,
   "id": "3ec3ae9d",
   "metadata": {},
   "outputs": [
    {
     "name": "stdout",
     "output_type": "stream",
     "text": [
      "Enter 1st number : \n",
      "20\n",
      "Enter 2nd number : \n",
      "0\n",
      "Error Occured!\n",
      "Division is :  None\n"
     ]
    }
   ],
   "source": [
    "# Specific Exception Handler\n",
    "\n",
    "print(\"Enter 1st number : \")\n",
    "a=int(input())\n",
    "\n",
    "print(\"Enter 2nd number : \")\n",
    "b=int(input())\n",
    "\n",
    "try:\n",
    "    div=a/b\n",
    "except ZeroDivisionError:\n",
    "    print(\"Error Occured!\")\n",
    "    div=None\n",
    "    \n",
    "print(\"Division is : \",div)\n"
   ]
  },
  {
   "cell_type": "markdown",
   "id": "70fff8b5",
   "metadata": {},
   "source": [
    "# The Else block"
   ]
  },
  {
   "cell_type": "markdown",
   "id": "bcadba41",
   "metadata": {},
   "source": [
    "This Block executes the codes within it when there doesn't occurr any exceptions."
   ]
  },
  {
   "cell_type": "code",
   "execution_count": 10,
   "id": "063eba52",
   "metadata": {},
   "outputs": [
    {
     "name": "stdout",
     "output_type": "stream",
     "text": [
      "There is an Error\n"
     ]
    }
   ],
   "source": [
    "# When Exception occured\n",
    "a=2\n",
    "b=0\n",
    "div=None\n",
    "\n",
    "try:\n",
    "    div=a/b\n",
    "except Exception as e:\n",
    "    print(\"There is an Error\")\n",
    "else:\n",
    "    print(\"Everything executed perfectly\")\n",
    "    print(\"Division Result: \",div)"
   ]
  },
  {
   "cell_type": "code",
   "execution_count": 11,
   "id": "ed6ff27f",
   "metadata": {},
   "outputs": [
    {
     "name": "stdout",
     "output_type": "stream",
     "text": [
      "Everything executed perfectly\n",
      "Division Result:  0.4\n"
     ]
    }
   ],
   "source": [
    "# When there is no error\n",
    "a=2\n",
    "b=5\n",
    "div=None\n",
    "\n",
    "try:\n",
    "    div=a/b\n",
    "except Exception as e:\n",
    "    print(\"There is an Error\")\n",
    "else:\n",
    "    print(\"Everything executed perfectly\")\n",
    "    print(\"Division Result: \",div)"
   ]
  },
  {
   "cell_type": "markdown",
   "id": "89add85a",
   "metadata": {},
   "source": [
    "# The Finally Block"
   ]
  },
  {
   "cell_type": "markdown",
   "id": "0119658b",
   "metadata": {},
   "source": [
    "This block is executed everytime regardless of an exception."
   ]
  },
  {
   "cell_type": "code",
   "execution_count": 12,
   "id": "5555f7a0",
   "metadata": {},
   "outputs": [
    {
     "name": "stdout",
     "output_type": "stream",
     "text": [
      "Everything executed perfectly\n",
      "Division Result:  0.4\n",
      "We're in finally block\n"
     ]
    }
   ],
   "source": [
    "# No Exception\n",
    "a=2\n",
    "b=5\n",
    "div=None\n",
    "try:\n",
    "    div=a/b\n",
    "except Exception as e:\n",
    "    print(\"There is an Error\")\n",
    "else:\n",
    "    print(\"Everything executed perfectly\")\n",
    "    print(\"Division Result: \",div)\n",
    "finally:\n",
    "    print(\"We're in finally block\")"
   ]
  },
  {
   "cell_type": "code",
   "execution_count": 14,
   "id": "4cc7245d",
   "metadata": {},
   "outputs": [
    {
     "name": "stdout",
     "output_type": "stream",
     "text": [
      "There is an Error\n",
      "We're in finally block\n"
     ]
    }
   ],
   "source": [
    "# With Exception\n",
    "a=2\n",
    "b=0\n",
    "div=None\n",
    "try:\n",
    "    div=a/b\n",
    "except Exception as e:\n",
    "    print(\"There is an Error\")\n",
    "else:\n",
    "    print(\"Everything executed perfectly\")\n",
    "    print(\"Division Result: \",div)\n",
    "finally:\n",
    "    print(\"We're in finally block\")"
   ]
  },
  {
   "cell_type": "markdown",
   "id": "f9b41585",
   "metadata": {},
   "source": [
    "# Raising our own Exceptions"
   ]
  },
  {
   "cell_type": "code",
   "execution_count": 17,
   "id": "1dce6cda",
   "metadata": {},
   "outputs": [
    {
     "name": "stdout",
     "output_type": "stream",
     "text": [
      "There is an Error named:  \n",
      "We're in finally block\n"
     ]
    }
   ],
   "source": [
    "a=10\n",
    "b=5\n",
    "try:\n",
    "    div=a/b\n",
    "    raise ZeroDivisionError \n",
    "except Exception as e:\n",
    "    print(\"There is an Error named: \",e)\n",
    "else:\n",
    "    print(\"Everything executed perfectly\")\n",
    "    print(\"Division Result: \",div)\n",
    "finally:\n",
    "    print(\"We're in finally block\")"
   ]
  },
  {
   "cell_type": "code",
   "execution_count": null,
   "id": "5c6d2a86",
   "metadata": {},
   "outputs": [],
   "source": []
  }
 ],
 "metadata": {
  "kernelspec": {
   "display_name": "Python 3",
   "language": "python",
   "name": "python3"
  },
  "language_info": {
   "codemirror_mode": {
    "name": "ipython",
    "version": 3
   },
   "file_extension": ".py",
   "mimetype": "text/x-python",
   "name": "python",
   "nbconvert_exporter": "python",
   "pygments_lexer": "ipython3",
   "version": "3.7.7"
  }
 },
 "nbformat": 4,
 "nbformat_minor": 5
}
