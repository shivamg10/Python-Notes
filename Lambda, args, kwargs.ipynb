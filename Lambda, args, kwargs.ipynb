{
 "cells": [
  {
   "cell_type": "markdown",
   "id": "008e3423",
   "metadata": {},
   "source": [
    "## Lambda Functions"
   ]
  },
  {
   "cell_type": "code",
   "execution_count": 1,
   "id": "7771a1dd",
   "metadata": {},
   "outputs": [],
   "source": [
    "## These are one liner Functions : Syntatical Sugars"
   ]
  },
  {
   "cell_type": "code",
   "execution_count": 6,
   "id": "1c443719",
   "metadata": {},
   "outputs": [],
   "source": [
    "# Egs of 1 liner function:\n",
    "def add(a,b):\n",
    "    return a+b"
   ]
  },
  {
   "cell_type": "code",
   "execution_count": 7,
   "id": "fdddfe96",
   "metadata": {},
   "outputs": [
    {
     "name": "stdout",
     "output_type": "stream",
     "text": [
      "<function add at 0x0000021763E1BA68>\n"
     ]
    }
   ],
   "source": [
    "print(add)"
   ]
  },
  {
   "cell_type": "code",
   "execution_count": 9,
   "id": "c04e5a14",
   "metadata": {},
   "outputs": [],
   "source": [
    " # Converting above to Lambda Function\n",
    "add= lambda a,b: a+b"
   ]
  },
  {
   "cell_type": "code",
   "execution_count": 10,
   "id": "bcd410f5",
   "metadata": {},
   "outputs": [
    {
     "name": "stdout",
     "output_type": "stream",
     "text": [
      "<function <lambda> at 0x0000021763E1B288>\n"
     ]
    }
   ],
   "source": [
    "print(add)"
   ]
  },
  {
   "cell_type": "code",
   "execution_count": 11,
   "id": "fc0be01f",
   "metadata": {},
   "outputs": [
    {
     "name": "stdout",
     "output_type": "stream",
     "text": [
      "3\n"
     ]
    }
   ],
   "source": [
    "print(add(1,2))"
   ]
  },
  {
   "cell_type": "code",
   "execution_count": 12,
   "id": "bee42f9f",
   "metadata": {},
   "outputs": [],
   "source": [
    "a=[1,5,43,6,76,23]"
   ]
  },
  {
   "cell_type": "code",
   "execution_count": 13,
   "id": "7909a29f",
   "metadata": {},
   "outputs": [
    {
     "data": {
      "text/plain": [
       "[1, 5, 6, 23, 43, 76]"
      ]
     },
     "execution_count": 13,
     "metadata": {},
     "output_type": "execute_result"
    }
   ],
   "source": [
    "sorted(a)"
   ]
  },
  {
   "cell_type": "code",
   "execution_count": 14,
   "id": "540ecf86",
   "metadata": {},
   "outputs": [],
   "source": [
    "a=[(\"jatin\",5),(\"rahul\",6),(\"meenu\",1),(\"ravinder\",10),(\"Sumit\",2)]"
   ]
  },
  {
   "cell_type": "code",
   "execution_count": 15,
   "id": "86d9269b",
   "metadata": {},
   "outputs": [
    {
     "data": {
      "text/plain": [
       "[('Sumit', 2), ('jatin', 5), ('meenu', 1), ('rahul', 6), ('ravinder', 10)]"
      ]
     },
     "execution_count": 15,
     "metadata": {},
     "output_type": "execute_result"
    }
   ],
   "source": [
    "# Sorted on the basis of first column ie. lexicographically\n",
    "sorted(a)"
   ]
  },
  {
   "cell_type": "code",
   "execution_count": 16,
   "id": "d8d236d5",
   "metadata": {},
   "outputs": [
    {
     "data": {
      "text/plain": [
       "[('meenu', 1), ('Sumit', 2), ('jatin', 5), ('rahul', 6), ('ravinder', 10)]"
      ]
     },
     "execution_count": 16,
     "metadata": {},
     "output_type": "execute_result"
    }
   ],
   "source": [
    "# Sorting on the basis of 2nd column\n",
    "sorted(a,key= lambda x: x[1])"
   ]
  },
  {
   "cell_type": "code",
   "execution_count": 17,
   "id": "95752901",
   "metadata": {},
   "outputs": [],
   "source": [
    "# To refer the documentation of a function use '?' after the functionName\n",
    "sorted?"
   ]
  },
  {
   "cell_type": "markdown",
   "id": "5ba8b688",
   "metadata": {},
   "source": [
    "## args and kwargs"
   ]
  },
  {
   "cell_type": "code",
   "execution_count": 19,
   "id": "bfa604e4",
   "metadata": {},
   "outputs": [],
   "source": [
    "# args is used for non keyword arguments \n",
    "# kwargs is used for keyword arguments\n",
    "\n",
    "def func(*args,**kwargs):\n",
    "     pass"
   ]
  },
  {
   "cell_type": "code",
   "execution_count": 24,
   "id": "923c7b77",
   "metadata": {},
   "outputs": [
    {
     "name": "stdout",
     "output_type": "stream",
     "text": [
      "(1, 2, 3, 4, 5)\n",
      "<class 'tuple'>\n"
     ]
    }
   ],
   "source": [
    "# args is of type tuple\n",
    "def show(*args):\n",
    "    print(args)\n",
    "    print(type(args))\n",
    "\n",
    "show(1,2,3,4,5)"
   ]
  },
  {
   "cell_type": "code",
   "execution_count": 22,
   "id": "3f7fae18",
   "metadata": {},
   "outputs": [
    {
     "name": "stdout",
     "output_type": "stream",
     "text": [
      "a :  1\n",
      "b :  32\n",
      "Others :  (5, 4, 7)\n"
     ]
    }
   ],
   "source": [
    "# Here a and b are required arguments while all other arguments goes to args\n",
    "def show(a,b,*args):\n",
    "    print(\"a : \" ,a)\n",
    "    print(\"b : \" ,b)\n",
    "    print(\"Others : \" ,args)\n",
    "    \n",
    "show(1,32,5,4,7)"
   ]
  },
  {
   "cell_type": "code",
   "execution_count": 26,
   "id": "501cbf51",
   "metadata": {},
   "outputs": [
    {
     "name": "stdout",
     "output_type": "stream",
     "text": [
      "(1, 2, 3, 56, 6)\n"
     ]
    }
   ],
   "source": [
    "# args is just a variable name by convention we can change it as well\n",
    "def change(*x):\n",
    "    print(x)\n",
    "    \n",
    "change(1,2,3,56,6)"
   ]
  },
  {
   "cell_type": "code",
   "execution_count": 29,
   "id": "9f2c0c87",
   "metadata": {},
   "outputs": [
    {
     "name": "stdout",
     "output_type": "stream",
     "text": [
      "(1, 2, 3, 4)\n",
      "<class 'tuple'>\n",
      "\n",
      "{'fname': 'Shivam', 'lname': 'Gupta'}\n",
      "<class 'dict'>\n"
     ]
    }
   ],
   "source": [
    "# Kwargs takes keyvalue pairs\n",
    "def show(*args,**kwargs):\n",
    "    print(args)\n",
    "    print(type(args))\n",
    "    print()\n",
    "    print(kwargs)\n",
    "    print(type(kwargs))\n",
    "\n",
    "show(1,2,3,4,fname=\"Shivam\",lname=\"Gupta\")"
   ]
  },
  {
   "cell_type": "code",
   "execution_count": null,
   "id": "5886a5bb",
   "metadata": {},
   "outputs": [],
   "source": []
  }
 ],
 "metadata": {
  "kernelspec": {
   "display_name": "Python 3",
   "language": "python",
   "name": "python3"
  },
  "language_info": {
   "codemirror_mode": {
    "name": "ipython",
    "version": 3
   },
   "file_extension": ".py",
   "mimetype": "text/x-python",
   "name": "python",
   "nbconvert_exporter": "python",
   "pygments_lexer": "ipython3",
   "version": "3.7.7"
  }
 },
 "nbformat": 4,
 "nbformat_minor": 5
}
