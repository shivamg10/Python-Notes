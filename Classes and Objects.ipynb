{
 "cells": [
  {
   "cell_type": "code",
   "execution_count": 7,
   "id": "daea97d8",
   "metadata": {},
   "outputs": [],
   "source": [
    "class Human:\n",
    "    def __init__(self, name, occ):\n",
    "        self.name=name\n",
    "        self.occ=occ\n",
    "    def do_work(self):\n",
    "        if self.occ=='Tennis':\n",
    "            print(self.name,\"likes to play Tennis\")\n",
    "        else:\n",
    "            print(self.name,\"likes\",self.occ)\n",
    "    def speaks(self):\n",
    "        if self.name=='Shivam':\n",
    "            print(\"He's a great guy!\")\n",
    "        else:\n",
    "            print(\"How is it going !\")\n",
    "    def __str__(self):\n",
    "        print(self.__dict__)\n",
    "        return \"\""
   ]
  },
  {
   "cell_type": "code",
   "execution_count": 8,
   "id": "8ef45465",
   "metadata": {},
   "outputs": [],
   "source": [
    "shivam=Human('Shivam','Machine Learning')"
   ]
  },
  {
   "cell_type": "code",
   "execution_count": 9,
   "id": "fd2a5cb3",
   "metadata": {},
   "outputs": [
    {
     "name": "stdout",
     "output_type": "stream",
     "text": [
      "Shivam likes Machine Learning\n",
      "He's a great guy!\n"
     ]
    }
   ],
   "source": [
    "shivam.do_work()\n",
    "shivam.speaks()"
   ]
  },
  {
   "cell_type": "code",
   "execution_count": 10,
   "id": "9b7aa4e1",
   "metadata": {},
   "outputs": [],
   "source": [
    "nikhil=Human('Nikhil','Tennis')"
   ]
  },
  {
   "cell_type": "code",
   "execution_count": 11,
   "id": "0240d276",
   "metadata": {},
   "outputs": [
    {
     "name": "stdout",
     "output_type": "stream",
     "text": [
      "Nikhil likes to play Tennis\n",
      "How is it going !\n"
     ]
    }
   ],
   "source": [
    "nikhil.do_work()\n",
    "nikhil.speaks()"
   ]
  },
  {
   "cell_type": "code",
   "execution_count": 12,
   "id": "9dd5e6c1",
   "metadata": {},
   "outputs": [
    {
     "name": "stdout",
     "output_type": "stream",
     "text": [
      "{'name': 'Shivam', 'occ': 'Machine Learning'}\n",
      "\n"
     ]
    }
   ],
   "source": [
    "print(shivam)"
   ]
  },
  {
   "cell_type": "code",
   "execution_count": 13,
   "id": "34378338",
   "metadata": {},
   "outputs": [
    {
     "name": "stdout",
     "output_type": "stream",
     "text": [
      "{'name': 'Nikhil', 'occ': 'Tennis'}\n",
      "\n"
     ]
    }
   ],
   "source": [
    "print(nikhil)"
   ]
  },
  {
   "cell_type": "code",
   "execution_count": null,
   "id": "269c3ff5",
   "metadata": {},
   "outputs": [],
   "source": []
  }
 ],
 "metadata": {
  "kernelspec": {
   "display_name": "Python 3",
   "language": "python",
   "name": "python3"
  },
  "language_info": {
   "codemirror_mode": {
    "name": "ipython",
    "version": 3
   },
   "file_extension": ".py",
   "mimetype": "text/x-python",
   "name": "python",
   "nbconvert_exporter": "python",
   "pygments_lexer": "ipython3",
   "version": "3.7.7"
  }
 },
 "nbformat": 4,
 "nbformat_minor": 5
}
