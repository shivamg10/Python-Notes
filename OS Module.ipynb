{
 "cells": [
  {
   "cell_type": "code",
   "execution_count": 1,
   "id": "27d791ca",
   "metadata": {},
   "outputs": [],
   "source": [
    "import os"
   ]
  },
  {
   "cell_type": "markdown",
   "id": "cff38e0d",
   "metadata": {},
   "source": [
    "## List of all available functions in OS module"
   ]
  },
  {
   "cell_type": "code",
   "execution_count": 3,
   "id": "b18eb74f",
   "metadata": {},
   "outputs": [
    {
     "name": "stdout",
     "output_type": "stream",
     "text": [
      "DirEntry\n",
      "F_OK\n",
      "MutableMapping\n",
      "O_APPEND\n",
      "O_BINARY\n",
      "O_CREAT\n",
      "O_EXCL\n",
      "O_NOINHERIT\n",
      "O_RANDOM\n",
      "O_RDONLY\n",
      "O_RDWR\n",
      "O_SEQUENTIAL\n",
      "O_SHORT_LIVED\n",
      "O_TEMPORARY\n",
      "O_TEXT\n",
      "O_TRUNC\n",
      "O_WRONLY\n",
      "P_DETACH\n",
      "P_NOWAIT\n",
      "P_NOWAITO\n",
      "P_OVERLAY\n",
      "P_WAIT\n",
      "PathLike\n",
      "R_OK\n",
      "SEEK_CUR\n",
      "SEEK_END\n",
      "SEEK_SET\n",
      "TMP_MAX\n",
      "W_OK\n",
      "X_OK\n",
      "_Environ\n",
      "__all__\n",
      "__builtins__\n",
      "__cached__\n",
      "__doc__\n",
      "__file__\n",
      "__loader__\n",
      "__name__\n",
      "__package__\n",
      "__spec__\n",
      "_check_methods\n",
      "_execvpe\n",
      "_exists\n",
      "_exit\n",
      "_fspath\n",
      "_get_exports_list\n",
      "_putenv\n",
      "_unsetenv\n",
      "_wrap_close\n",
      "abc\n",
      "abort\n",
      "access\n",
      "altsep\n",
      "chdir\n",
      "chmod\n",
      "close\n",
      "closerange\n",
      "cpu_count\n",
      "curdir\n",
      "defpath\n",
      "device_encoding\n",
      "devnull\n",
      "dup\n",
      "dup2\n",
      "environ\n",
      "error\n",
      "execl\n",
      "execle\n",
      "execlp\n",
      "execlpe\n",
      "execv\n",
      "execve\n",
      "execvp\n",
      "execvpe\n",
      "extsep\n",
      "fdopen\n",
      "fsdecode\n",
      "fsencode\n",
      "fspath\n",
      "fstat\n",
      "fsync\n",
      "ftruncate\n",
      "get_exec_path\n",
      "get_handle_inheritable\n",
      "get_inheritable\n",
      "get_terminal_size\n",
      "getcwd\n",
      "getcwdb\n",
      "getenv\n",
      "getlogin\n",
      "getpid\n",
      "getppid\n",
      "isatty\n",
      "kill\n",
      "linesep\n",
      "link\n",
      "listdir\n",
      "lseek\n",
      "lstat\n",
      "makedirs\n",
      "mkdir\n",
      "name\n",
      "open\n",
      "pardir\n",
      "path\n",
      "pathsep\n",
      "pipe\n",
      "popen\n",
      "putenv\n",
      "read\n",
      "readlink\n",
      "remove\n",
      "removedirs\n",
      "rename\n",
      "renames\n",
      "replace\n",
      "rmdir\n",
      "scandir\n",
      "sep\n",
      "set_handle_inheritable\n",
      "set_inheritable\n",
      "spawnl\n",
      "spawnle\n",
      "spawnv\n",
      "spawnve\n",
      "st\n",
      "startfile\n",
      "stat\n",
      "stat_result\n",
      "statvfs_result\n",
      "strerror\n",
      "supports_bytes_environ\n",
      "supports_dir_fd\n",
      "supports_effective_ids\n",
      "supports_fd\n",
      "supports_follow_symlinks\n",
      "symlink\n",
      "sys\n",
      "system\n",
      "terminal_size\n",
      "times\n",
      "times_result\n",
      "truncate\n",
      "umask\n",
      "uname_result\n",
      "unlink\n",
      "urandom\n",
      "utime\n",
      "waitpid\n",
      "walk\n",
      "write\n"
     ]
    }
   ],
   "source": [
    "for d in dir(os):\n",
    "    print(d)"
   ]
  },
  {
   "cell_type": "markdown",
   "id": "cdf7e561",
   "metadata": {},
   "source": [
    "## Get current working directory"
   ]
  },
  {
   "cell_type": "code",
   "execution_count": 4,
   "id": "ba6be0ee",
   "metadata": {},
   "outputs": [
    {
     "name": "stdout",
     "output_type": "stream",
     "text": [
      "C:\\jupyter_notebook\\Python\n"
     ]
    }
   ],
   "source": [
    "print(os.getcwd())"
   ]
  },
  {
   "cell_type": "markdown",
   "id": "a1a2e9ad",
   "metadata": {},
   "source": [
    "## To change current working directory"
   ]
  },
  {
   "cell_type": "code",
   "execution_count": 7,
   "id": "2ab63967",
   "metadata": {},
   "outputs": [
    {
     "name": "stdout",
     "output_type": "stream",
     "text": [
      "C:\\jupyter_notebook\n"
     ]
    }
   ],
   "source": [
    "os.chdir(\"C:\\jupyter_notebook\")\n",
    "print(os.getcwd())"
   ]
  },
  {
   "cell_type": "markdown",
   "id": "c54339b7",
   "metadata": {},
   "source": [
    "## To get the list of the files present in the current working directory"
   ]
  },
  {
   "cell_type": "code",
   "execution_count": 8,
   "id": "ccb309a9",
   "metadata": {},
   "outputs": [
    {
     "name": "stdout",
     "output_type": "stream",
     "text": [
      "['.ipynb_checkpoints', 'API', 'Applied AI and ML', 'CB_practise.ipynb', 'CN_KNN.ipynb', 'CN_practise.ipynb', 'CodeBasics', 'Cross_Validation.ipynb', 'data', 'Data Science by Rune YT', 'Data Science Project 7 - Flower Classification', 'Data Science Projects 30 - EDA Haberman(Titanic)', 'Data Structures and Algorithms', 'Gradient Descent_CN.ipynb', 'IBM (EDA)', 'Jose Portilla udemy Course', 'Learning OpenCV', 'LinearRegression_CB', 'LinearRegression_CB.ipynb', 'LinearRegression_CN.ipynb', 'MatplotLib.ipynb', 'Matplotlib_CN.ipynb', 'ML Projects', 'Movie Recommendation System', 'Numpy', 'Numpy.ipynb', 'Numpy_CN.ipynb', 'Pandas', 'Pandas.ipynb', 'Pandas_CN.ipynb', 'Python', 'Regex.ipynb', 'Seaborn.ipynb', 'Self Driving Car Project', 'SIH', 'skLearn ML Models (Udemy).ipynb', 'Statistics', 'Truthics Solutions Works', 'Using KNN on MNIST Dataset.ipynb', 'Web Scraping']\n"
     ]
    }
   ],
   "source": [
    "print(os.listdir())"
   ]
  },
  {
   "cell_type": "markdown",
   "id": "f0f23d93",
   "metadata": {},
   "source": [
    "## To make Directories within current folder"
   ]
  },
  {
   "cell_type": "code",
   "execution_count": 10,
   "id": "3c3c8e6d",
   "metadata": {},
   "outputs": [],
   "source": [
    "os.makedirs('outerLevel/innerLevel')"
   ]
  },
  {
   "cell_type": "code",
   "execution_count": 13,
   "id": "7f86180e",
   "metadata": {},
   "outputs": [],
   "source": [
    "## os.mkdir() can also be used when we want to make single level directories only"
   ]
  },
  {
   "cell_type": "code",
   "execution_count": 15,
   "id": "ecb812e8",
   "metadata": {},
   "outputs": [],
   "source": [
    "## Use os.makeDirs() to make any kind of directory since we need not to think about levels"
   ]
  },
  {
   "cell_type": "markdown",
   "id": "c2614dd4",
   "metadata": {},
   "source": [
    "## To remove directories"
   ]
  },
  {
   "cell_type": "code",
   "execution_count": 14,
   "id": "819aa1b2",
   "metadata": {},
   "outputs": [],
   "source": [
    "## os.rmdir('level1') to remove single level directories\n",
    "## os.removedirs('level2/level1') to remove multi level directories"
   ]
  },
  {
   "cell_type": "code",
   "execution_count": 16,
   "id": "dcf16093",
   "metadata": {},
   "outputs": [],
   "source": [
    "## use os.rmdir() to remove directories one by one, so that you don't end up deleting a useful dir."
   ]
  },
  {
   "cell_type": "markdown",
   "id": "b4456305",
   "metadata": {},
   "source": [
    "## To rename files"
   ]
  },
  {
   "cell_type": "code",
   "execution_count": 17,
   "id": "9de64af3",
   "metadata": {},
   "outputs": [],
   "source": [
    "os.rename('test.txt','demo.txt')"
   ]
  },
  {
   "cell_type": "code",
   "execution_count": null,
   "id": "652271d4",
   "metadata": {},
   "outputs": [],
   "source": []
  },
  {
   "cell_type": "code",
   "execution_count": null,
   "id": "5d637370",
   "metadata": {},
   "outputs": [],
   "source": []
  }
 ],
 "metadata": {
  "kernelspec": {
   "display_name": "Python 3",
   "language": "python",
   "name": "python3"
  },
  "language_info": {
   "codemirror_mode": {
    "name": "ipython",
    "version": 3
   },
   "file_extension": ".py",
   "mimetype": "text/x-python",
   "name": "python",
   "nbconvert_exporter": "python",
   "pygments_lexer": "ipython3",
   "version": "3.7.7"
  }
 },
 "nbformat": 4,
 "nbformat_minor": 5
}
